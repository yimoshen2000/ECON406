{
 "cells": [
  {
   "cell_type": "code",
   "execution_count": 39,
   "id": "cd3dd63b-e7a0-457d-8f38-b66c6dd26db6",
   "metadata": {},
   "outputs": [],
   "source": [
    "\"\"\"This is the code file for the OLS portion of problem set 3.\"\"\"\n",
    "import numpy as np\n",
    "import pandas as pd\n",
    "\n",
    "\n",
    "def extract_variable_means(dataset_filename: str): \n",
    "    \"\"\"\n",
    "    Calculates the mean values of the number of total campus crimes,\n",
    "    employed police officers, and total college enrollment.\n",
    "    \"\"\" \n",
    "    df = pd.read_csv(dataset_filename)\n",
    "    df_mean = df[[\"crime\", \"police\", \"enroll\"]].mean()\n",
    "    return df_mean\n",
    "\n",
    "    \n",
    "def extract_estimator(dataset_filename: str): \n",
    "    \"\"\"Calculates the ols estimator vector\"\"\"\n",
    "    df = pd.read_csv(dataset_filename).dropna() # Drop any row that has missing data\n",
    "    df[\"beta_0\"] = 1 #add column of 1s\n",
    "    x_mat = df[[\"beta_0\",\"lenroll\"]] # matrix x => column log-enroll and column beta_0 combined\n",
    "    y_vec = df[\"lcrime\"] #vector y = log crime\n",
    "    beta_hat=np.dot(np.linalg.inv(np.dot(np.transpose(x_mat),x_mat)),np.dot(np.transpose(x_mat),y_vec))\n",
    "    return beta_hat\n"
   ]
  },
  {
   "cell_type": "code",
   "execution_count": 40,
   "id": "009cc76d-6f9f-45dc-a322-59815179f273",
   "metadata": {},
   "outputs": [
    {
     "data": {
      "text/plain": [
       "array([-6.63136926,  1.26976026])"
      ]
     },
     "execution_count": 40,
     "metadata": {},
     "output_type": "execute_result"
    }
   ],
   "source": [
    "extract_estimator(\"campus.csv\")"
   ]
  },
  {
   "cell_type": "code",
   "execution_count": null,
   "id": "ef97c1e8-1663-48e3-8232-828678c34550",
   "metadata": {},
   "outputs": [],
   "source": []
  }
 ],
 "metadata": {
  "kernelspec": {
   "display_name": "Python 3 (ipykernel)",
   "language": "python",
   "name": "python3"
  },
  "language_info": {
   "codemirror_mode": {
    "name": "ipython",
    "version": 3
   },
   "file_extension": ".py",
   "mimetype": "text/x-python",
   "name": "python",
   "nbconvert_exporter": "python",
   "pygments_lexer": "ipython3",
   "version": "3.8.8"
  }
 },
 "nbformat": 4,
 "nbformat_minor": 5
}
