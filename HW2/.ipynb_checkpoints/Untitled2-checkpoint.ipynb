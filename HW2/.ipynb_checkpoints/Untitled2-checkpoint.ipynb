{
 "cells": [
  {
   "cell_type": "code",
   "execution_count": 12,
   "id": "93134adc-14f0-429d-b243-60b7746900b3",
   "metadata": {},
   "outputs": [
    {
     "ename": "SyntaxError",
     "evalue": "invalid syntax (3923806981.py, line 19)",
     "output_type": "error",
     "traceback": [
      "\u001b[0;36m  File \u001b[0;32m\"/var/folders/ck/_y0dry512ld9clzhs77wnppm0000gn/T/ipykernel_23856/3923806981.py\"\u001b[0;36m, line \u001b[0;32m19\u001b[0m\n\u001b[0;31m    bool different_choice = TRUE\u001b[0m\n\u001b[0m         ^\u001b[0m\n\u001b[0;31mSyntaxError\u001b[0m\u001b[0;31m:\u001b[0m invalid syntax\n"
     ]
    }
   ],
   "source": [
    "\"\"\"This is the code file for the basic operation portion of HW2.\"\"\"\n",
    "\n",
    "\n",
    "# Part a\n",
    "def prisoners_dilemma()->int:\n",
    "    \"\"\"\n",
    "    This function simulates the game Prisoners' Dilemma where it asks for\n",
    "    strategies of both player A and B. If they have different responses,\n",
    "    the game continues. Otherwise the game ends and this function returns\n",
    "    the number of rounds played.\n",
    "    \"\"\"\n",
    "    \n",
    "    # use input to record each player's responses\n",
    "    # compare them and if they're different, continue the while loop\n",
    "    # and print out their payouts\n",
    "    # if they're the same, end the game and print out number of rounds\n",
    "    # that have been played.\n",
    "    num_games = 0\n",
    "    bool different_choice = TRUE\n",
    "    while different_choice:\n",
    "        a_strategy = input(\"Player A, what is your strategy, cooperate or defect? \")\n",
    "        a_strategy = input(\"Player B, what is your strategy, cooperate or defect? \")\n",
    "        if a_strategy == \"cooperate\" and b_strategy == \"defect\":\n",
    "            print(\"A: -20, B: 0\")\n",
    "            num_games += 1\n",
    "        elif a_strategy == \"defect\" and b_strategt == \"cooperate\":\n",
    "            print(\"A: 0, B: -20\")\n",
    "            num_games += 1\n",
    "        elif a_strategy == \"cooperate\" and b_strategy == \"cooperate\":\n",
    "            print(\"A: -3, B: -3\") \n",
    "            num_games += 1\n",
    "            different_choice = FALSE\n",
    "        elif a_strategt == \"defect\" and b_strategt == \"defect\":\n",
    "            print(\"A: -10, B: -10\")\n",
    "            num_games += 1\n",
    "            different_choice = FALSE\n",
    "        else:\n",
    "            print(\"invalid input!\")\n",
    "            prisoners_dilemma()\n",
    "    return num_games\n",
    "\n",
    "\n",
    "# Part b\n",
    "def factorial(n_arg: int)->int:\n",
    "    \"\"\"\n",
    "    This function\n",
    "    \"\"\"\n",
    "    pass\n",
    "\n",
    "\n",
    "# Part c\n",
    "def compute_frequency(words: [str])->dict:\n",
    "    \"\"\"\n",
    "    This function \n",
    "    \"\"\"\n",
    "    pass\n",
    "\n"
   ]
  },
  {
   "cell_type": "code",
   "execution_count": 11,
   "id": "67a6f311-1c2f-42f1-8cd6-2027a17e33d4",
   "metadata": {},
   "outputs": [
    {
     "ename": "NameError",
     "evalue": "name 'TRUE' is not defined",
     "output_type": "error",
     "traceback": [
      "\u001b[0;31m---------------------------------------------------------------------------\u001b[0m",
      "\u001b[0;31mNameError\u001b[0m                                 Traceback (most recent call last)",
      "\u001b[0;32m/var/folders/ck/_y0dry512ld9clzhs77wnppm0000gn/T/ipykernel_23856/922758711.py\u001b[0m in \u001b[0;36m<module>\u001b[0;34m\u001b[0m\n\u001b[0;32m----> 1\u001b[0;31m \u001b[0mprisoners_dilemma\u001b[0m\u001b[0;34m(\u001b[0m\u001b[0;34m)\u001b[0m\u001b[0;34m\u001b[0m\u001b[0;34m\u001b[0m\u001b[0m\n\u001b[0m",
      "\u001b[0;32m/var/folders/ck/_y0dry512ld9clzhs77wnppm0000gn/T/ipykernel_23856/2589064011.py\u001b[0m in \u001b[0;36mprisoners_dilemma\u001b[0;34m()\u001b[0m\n\u001b[1;32m     17\u001b[0m     \u001b[0;31m# that have been played.\u001b[0m\u001b[0;34m\u001b[0m\u001b[0;34m\u001b[0m\u001b[0;34m\u001b[0m\u001b[0m\n\u001b[1;32m     18\u001b[0m     \u001b[0mnum_games\u001b[0m \u001b[0;34m=\u001b[0m \u001b[0;36m0\u001b[0m\u001b[0;34m\u001b[0m\u001b[0;34m\u001b[0m\u001b[0m\n\u001b[0;32m---> 19\u001b[0;31m     \u001b[0mdifferent_choice\u001b[0m \u001b[0;34m=\u001b[0m \u001b[0mTRUE\u001b[0m\u001b[0;34m\u001b[0m\u001b[0;34m\u001b[0m\u001b[0m\n\u001b[0m\u001b[1;32m     20\u001b[0m     \u001b[0;32mwhile\u001b[0m \u001b[0mdifferent_choice\u001b[0m\u001b[0;34m:\u001b[0m\u001b[0;34m\u001b[0m\u001b[0;34m\u001b[0m\u001b[0m\n\u001b[1;32m     21\u001b[0m         \u001b[0ma_strategy\u001b[0m \u001b[0;34m=\u001b[0m \u001b[0minput\u001b[0m\u001b[0;34m(\u001b[0m\u001b[0;34m\"Player A, what is your strategy, cooperate or defect? \"\u001b[0m\u001b[0;34m)\u001b[0m\u001b[0;34m\u001b[0m\u001b[0;34m\u001b[0m\u001b[0m\n",
      "\u001b[0;31mNameError\u001b[0m: name 'TRUE' is not defined"
     ]
    }
   ],
   "source": [
    "prisoners_dilemma()"
   ]
  },
  {
   "cell_type": "code",
   "execution_count": 13,
   "id": "b197b3b7-3b2f-4a94-9c71-dcae64c729d2",
   "metadata": {},
   "outputs": [
    {
     "ename": "NameError",
     "evalue": "name 'TRUE' is not defined",
     "output_type": "error",
     "traceback": [
      "\u001b[0;31m---------------------------------------------------------------------------\u001b[0m",
      "\u001b[0;31mNameError\u001b[0m                                 Traceback (most recent call last)",
      "\u001b[0;32m/var/folders/ck/_y0dry512ld9clzhs77wnppm0000gn/T/ipykernel_23856/922758711.py\u001b[0m in \u001b[0;36m<module>\u001b[0;34m\u001b[0m\n\u001b[0;32m----> 1\u001b[0;31m \u001b[0mprisoners_dilemma\u001b[0m\u001b[0;34m(\u001b[0m\u001b[0;34m)\u001b[0m\u001b[0;34m\u001b[0m\u001b[0;34m\u001b[0m\u001b[0m\n\u001b[0m",
      "\u001b[0;32m/var/folders/ck/_y0dry512ld9clzhs77wnppm0000gn/T/ipykernel_23856/2589064011.py\u001b[0m in \u001b[0;36mprisoners_dilemma\u001b[0;34m()\u001b[0m\n\u001b[1;32m     17\u001b[0m     \u001b[0;31m# that have been played.\u001b[0m\u001b[0;34m\u001b[0m\u001b[0;34m\u001b[0m\u001b[0;34m\u001b[0m\u001b[0m\n\u001b[1;32m     18\u001b[0m     \u001b[0mnum_games\u001b[0m \u001b[0;34m=\u001b[0m \u001b[0;36m0\u001b[0m\u001b[0;34m\u001b[0m\u001b[0;34m\u001b[0m\u001b[0m\n\u001b[0;32m---> 19\u001b[0;31m     \u001b[0mdifferent_choice\u001b[0m \u001b[0;34m=\u001b[0m \u001b[0mTRUE\u001b[0m\u001b[0;34m\u001b[0m\u001b[0;34m\u001b[0m\u001b[0m\n\u001b[0m\u001b[1;32m     20\u001b[0m     \u001b[0;32mwhile\u001b[0m \u001b[0mdifferent_choice\u001b[0m\u001b[0;34m:\u001b[0m\u001b[0;34m\u001b[0m\u001b[0;34m\u001b[0m\u001b[0m\n\u001b[1;32m     21\u001b[0m         \u001b[0ma_strategy\u001b[0m \u001b[0;34m=\u001b[0m \u001b[0minput\u001b[0m\u001b[0;34m(\u001b[0m\u001b[0;34m\"Player A, what is your strategy, cooperate or defect? \"\u001b[0m\u001b[0;34m)\u001b[0m\u001b[0;34m\u001b[0m\u001b[0;34m\u001b[0m\u001b[0m\n",
      "\u001b[0;31mNameError\u001b[0m: name 'TRUE' is not defined"
     ]
    }
   ],
   "source": [
    "prisoners_dilemma()"
   ]
  },
  {
   "cell_type": "code",
   "execution_count": null,
   "id": "38bebbfc-4e8f-4d29-b087-82232a00b534",
   "metadata": {},
   "outputs": [],
   "source": []
  }
 ],
 "metadata": {
  "kernelspec": {
   "display_name": "Python 3 (ipykernel)",
   "language": "python",
   "name": "python3"
  },
  "language_info": {
   "codemirror_mode": {
    "name": "ipython",
    "version": 3
   },
   "file_extension": ".py",
   "mimetype": "text/x-python",
   "name": "python",
   "nbconvert_exporter": "python",
   "pygments_lexer": "ipython3",
   "version": "3.8.8"
  }
 },
 "nbformat": 4,
 "nbformat_minor": 5
}
