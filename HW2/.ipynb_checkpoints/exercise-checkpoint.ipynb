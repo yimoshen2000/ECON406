{
 "cells": [
  {
   "cell_type": "code",
   "execution_count": 57,
   "id": "93134adc-14f0-429d-b243-60b7746900b3",
   "metadata": {
    "tags": []
   },
   "outputs": [],
   "source": [
    "\"\"\"This is the code file for the basic operation portion of HW2.\"\"\"\n",
    "\n",
    "\n",
    "# Part a\n",
    "def prisoners_dilemma()->int:\n",
    "    \"\"\"\n",
    "    This function simulates the game Prisoners' Dilemma where it asks for\n",
    "    strategies of both player A and B. If they have different responses,\n",
    "    the game continues. Otherwise the game ends and this function returns\n",
    "    the number of rounds played.\n",
    "    \"\"\"\n",
    "    num_games = 0\n",
    "    different_choice = True\n",
    "    while different_choice:\n",
    "        a_strategy = input(\"Player A, what is your strategy, cooperate or defect? \")\n",
    "        b_strategy = input(\"Player B, what is your strategy, cooperate or defect? \")\n",
    "        if a_strategy == \"cooperate\" and b_strategy == \"defect\":\n",
    "            print(\"A: -20, B: 0\")\n",
    "            num_games += 1\n",
    "        elif a_strategy == \"defect\" and b_strategy == \"cooperate\":\n",
    "            print(\"A: 0, B: -20\")\n",
    "            num_games += 1\n",
    "        elif a_strategy == \"cooperate\" and b_strategy == \"cooperate\":\n",
    "            print(\"A: -3, B: -3\")\n",
    "            num_games += 1\n",
    "            different_choice = False\n",
    "        elif a_strategy == \"defect\" and b_strategy == \"defect\":\n",
    "            print(\"A: -10, B: -10\")\n",
    "            num_games += 1\n",
    "            different_choice = False\n",
    "        else:\n",
    "            print(\"invalid input!\")\n",
    "            prisoners_dilemma()\n",
    "    return num_games\n",
    "\n",
    "\n",
    "# Part b\n",
    "def factorial(n_arg: int)->int:\n",
    "    \"\"\"\n",
    "    This function returns n! for any positive integer n.\n",
    "    \"\"\"\n",
    "    if n_arg == 1:\n",
    "        return n_arg\n",
    "    return n_arg * factorial(n_arg-1)\n",
    "\n",
    "\n",
    "# Part c\n",
    "def compute_frequency(words: [str])->dict:\n",
    "    \"\"\"\n",
    "    This function takes a list of strings and returns a dictionary\n",
    "    of how many times each unique string has appeared.\n",
    "    \"\"\"\n",
    "    dictionary = {}\n",
    "    for word in words:\n",
    "        if word not in dictionary:\n",
    "            dictionary[word] = 1\n",
    "        else:\n",
    "            dictionary[word] += 1\n",
    "    return dictionary"
   ]
  },
  {
   "cell_type": "code",
   "execution_count": 58,
   "id": "4f3542b3-cebd-40f4-bda3-fd9252da5813",
   "metadata": {},
   "outputs": [
    {
     "data": {
      "text/plain": [
       "2"
      ]
     },
     "execution_count": 58,
     "metadata": {},
     "output_type": "execute_result"
    }
   ],
   "source": [
    "factorial(2)"
   ]
  },
  {
   "cell_type": "code",
   "execution_count": 59,
   "id": "bc80a111-7b65-4e2d-83b6-6983b68570ac",
   "metadata": {},
   "outputs": [
    {
     "data": {
      "text/plain": [
       "6"
      ]
     },
     "execution_count": 59,
     "metadata": {},
     "output_type": "execute_result"
    }
   ],
   "source": [
    "factorial(3)"
   ]
  },
  {
   "cell_type": "code",
   "execution_count": 60,
   "id": "83c9d934-e58c-42d3-85de-fcbee49a3b65",
   "metadata": {},
   "outputs": [
    {
     "data": {
      "text/plain": [
       "24"
      ]
     },
     "execution_count": 60,
     "metadata": {},
     "output_type": "execute_result"
    }
   ],
   "source": [
    "factorial(4)"
   ]
  },
  {
   "cell_type": "code",
   "execution_count": 61,
   "id": "79e3cb07-2452-4735-a425-e8df837951ce",
   "metadata": {},
   "outputs": [
    {
     "data": {
      "text/plain": [
       "120"
      ]
     },
     "execution_count": 61,
     "metadata": {},
     "output_type": "execute_result"
    }
   ],
   "source": [
    "factorial(5)"
   ]
  },
  {
   "cell_type": "code",
   "execution_count": 62,
   "id": "087483ef-adb2-4b79-a8c4-7e69f9559ff0",
   "metadata": {},
   "outputs": [
    {
     "data": {
      "text/plain": [
       "1"
      ]
     },
     "execution_count": 62,
     "metadata": {},
     "output_type": "execute_result"
    }
   ],
   "source": [
    "factorial(1)"
   ]
  },
  {
   "cell_type": "code",
   "execution_count": null,
   "id": "1a08d2a0-42d9-48ce-b45f-95cf363dbe3b",
   "metadata": {},
   "outputs": [],
   "source": []
  }
 ],
 "metadata": {
  "kernelspec": {
   "display_name": "Python 3 (ipykernel)",
   "language": "python",
   "name": "python3"
  },
  "language_info": {
   "codemirror_mode": {
    "name": "ipython",
    "version": 3
   },
   "file_extension": ".py",
   "mimetype": "text/x-python",
   "name": "python",
   "nbconvert_exporter": "python",
   "pygments_lexer": "ipython3",
   "version": "3.8.8"
  }
 },
 "nbformat": 4,
 "nbformat_minor": 5
}
