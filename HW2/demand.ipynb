{
 "cells": [
  {
   "cell_type": "code",
   "execution_count": 11,
   "id": "cb5f6136-41fc-46dc-85b8-4d0ef6ed106e",
   "metadata": {},
   "outputs": [],
   "source": [
    "\"\"\"This is the code file for the demand exercise portion of HW2.\"\"\"\n",
    "import math\n",
    "\n",
    "\n",
    "# Part a\n",
    "def compute_elasticity(price1: float, price2: float, quant1: float, quant2: float) -> float:\n",
    "    \"\"\"\n",
    "    This function calculates an elasticity based on the\n",
    "    taylor-series approximation form for a given input of two\n",
    "    prices and two quantities.\n",
    "    \"\"\"\n",
    "    return math.log(quant2/quant1) / math.log(price2/price1)\n",
    "\n",
    "\n",
    "# Part b\n",
    "def check_elasticity(elasticity: float) -> str:\n",
    "    \"\"\"\n",
    "    This function returns whether an elasticity is elastic,\n",
    "    inelastic or unit-elastic.\n",
    "    \"\"\"\n",
    "    elasticity = abs(elasticity)\n",
    "    if elasticity > 1:\n",
    "        result = str(\"elastic\")\n",
    "    elif elasticity == 1:\n",
    "        result = str(\"unit-elastic\")\n",
    "    else:\n",
    "        result = str(\"inelastic\")\n",
    "    return result\n",
    "\n",
    "\n",
    "# Part c\n",
    "def compute_demand(sales: float, init_price: float, new_price: float, elasticity: float) -> float:\n",
    "    \"\"\"\n",
    "    This function takes initial sales of a product, an initial\n",
    "    price, a new price, and an elasticity and calculates the\n",
    "    predicted demand at the new price.\n",
    "    \"\"\"\n",
    "    predicted_demand = sales * (new_price / init_price)**elasticity\n",
    "    return predicted_demand\n",
    "\n",
    "\n",
    "# Part d\n",
    "def main():\n",
    "    \"\"\"\n",
    "    This function asks the user whether to calculate either\n",
    "    elasticity or demand.\n",
    "    \"\"\"\n",
    "    answer = input(\"Calculate elasticity or demand?\")\n",
    "    if answer == \"elasticity\":\n",
    "        old_price = float(input(\"Enter old price: \"))\n",
    "        new_price = float(input(\"Enter new price: \"))\n",
    "        old_quantity = float(input(\"Enter old quantity: \"))\n",
    "        new_quantity = float(input(\"Enter new quantity: \"))\n",
    "        calculated_elasticity = compute_elasticity(old_price, new_price, old_quantity, new_quantity)\n",
    "        elasticity_status = check_elasticity(calculated_elasticity)\n",
    "        print(f\"New elasticity: {str(calculated_elasticity)}; {str(elasticity_status)}\")\n",
    "    elif answer == \"demand\":\n",
    "        sales_quantity = float(input(\"Enter sales quantity: \"))\n",
    "        initial_price = float(input(\"Enter initial price: \"))\n",
    "        elasticity = float(input(\"Enter elasticity: \"))\n",
    "        price_points_num = int(input(\"Enter number of new price points: \"))\n",
    "        demand_dictionary = dict()\n",
    "        iter = 0\n",
    "        for _ in range(price_points_num):\n",
    "            iter+=1\n",
    "            new_price = float(input(f\"Enter new price #{str(iter)}: \"))\n",
    "            new_demand = compute_demand(sales_quantity, initial_price, new_price, elasticity)\n",
    "            demand_dictionary[new_price] = new_demand\n",
    "            \n",
    "        print(demand_dictionary)\n",
    "    else:\n",
    "        print(\"Invalid input!\")\n",
    "        main()\n",
    "        "
   ]
  },
  {
   "cell_type": "code",
   "execution_count": 7,
   "id": "aed89bac-ab20-404b-81ae-875e88e93ff0",
   "metadata": {},
   "outputs": [
    {
     "name": "stdin",
     "output_type": "stream",
     "text": [
      "Calculate elasticity or demand? elasticity\n",
      "Enter old price:  5\n",
      "Enter new price:  7\n",
      "Enter old quantity:  3\n",
      "Enter new quantity:  6\n"
     ]
    },
    {
     "name": "stdout",
     "output_type": "stream",
     "text": [
      "New elasticity: 2.0600427171061453; elastic\n"
     ]
    }
   ],
   "source": [
    "main()"
   ]
  },
  {
   "cell_type": "code",
   "execution_count": 8,
   "id": "9b731987-87d0-44cc-a105-9c923379c16a",
   "metadata": {},
   "outputs": [
    {
     "name": "stdin",
     "output_type": "stream",
     "text": [
      "Calculate elasticity or demand? elasticity\n",
      "Enter old price:  5\n",
      "Enter new price:  7\n",
      "Enter old quantity:  6\n",
      "Enter new quantity:  3\n"
     ]
    },
    {
     "name": "stdout",
     "output_type": "stream",
     "text": [
      "New elasticity: -2.0600427171061453; elastic\n"
     ]
    }
   ],
   "source": [
    "main()"
   ]
  },
  {
   "cell_type": "code",
   "execution_count": 9,
   "id": "b8972f63-bb28-4868-b5a3-0715a7ebac5d",
   "metadata": {},
   "outputs": [
    {
     "name": "stdin",
     "output_type": "stream",
     "text": [
      "Calculate elasticity or demand? demand\n",
      "Enter sales quantity:  100\n",
      "Enter initial price:  4\n",
      "Enter elasticity:  1\n",
      "Enter number of new price points:  5\n",
      "Enter new price #1:  5\n",
      "Enter new price #2:  6\n",
      "Enter new price #3:  7\n",
      "Enter new price #4:  8\n",
      "Enter new price #5:  9\n"
     ]
    },
    {
     "name": "stdout",
     "output_type": "stream",
     "text": [
      "{5.0: 339.7852285573806, 6.0: 407.74227426885676, 7.0: 475.6993199803329, 8.0: 543.656365691809, 9.0: 611.6134114032851}\n"
     ]
    }
   ],
   "source": [
    "main()"
   ]
  },
  {
   "cell_type": "code",
   "execution_count": 10,
   "id": "5504d9bc-14e3-41be-872d-172429d66abb",
   "metadata": {},
   "outputs": [
    {
     "name": "stdin",
     "output_type": "stream",
     "text": [
      "Calculate elasticity or demand? demand\n",
      "Enter sales quantity:  100\n",
      "Enter initial price:  5\n",
      "Enter elasticity:  -2\n",
      "Enter number of new price points:  4\n",
      "Enter new price #1:  6\n",
      "Enter new price #2:  7\n",
      "Enter new price #3:  8\n",
      "Enter new price #4:  9\n"
     ]
    },
    {
     "name": "stdout",
     "output_type": "stream",
     "text": [
      "{6.0: 16.240233988393523, 7.0: 18.946939653125778, 8.0: 21.653645317858032, 9.0: 24.360350982590287}\n"
     ]
    }
   ],
   "source": [
    "main()"
   ]
  },
  {
   "cell_type": "code",
   "execution_count": null,
   "id": "0cea2056-e41d-4258-bc2e-eec9bd4a1cbc",
   "metadata": {},
   "outputs": [],
   "source": []
  }
 ],
 "metadata": {
  "kernelspec": {
   "display_name": "Python 3 (ipykernel)",
   "language": "python",
   "name": "python3"
  },
  "language_info": {
   "codemirror_mode": {
    "name": "ipython",
    "version": 3
   },
   "file_extension": ".py",
   "mimetype": "text/x-python",
   "name": "python",
   "nbconvert_exporter": "python",
   "pygments_lexer": "ipython3",
   "version": "3.8.8"
  }
 },
 "nbformat": 4,
 "nbformat_minor": 5
}
